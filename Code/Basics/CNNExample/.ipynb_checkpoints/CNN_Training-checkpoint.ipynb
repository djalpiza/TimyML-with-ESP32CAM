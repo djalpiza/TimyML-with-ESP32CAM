{
 "cells": [
  {
   "cell_type": "markdown",
   "metadata": {},
   "source": [
    "## Preparation\n",
    "\n",
    "### Libraries\n",
    "Different libraries for file and image processing, as well as for the definition and construction of neural networks using the Tensorflow library, the first step is to load them:"
   ]
  },
  {
   "cell_type": "code",
   "execution_count": 13,
   "metadata": {},
   "outputs": [],
   "source": [
    "import matplotlib.pyplot as plt\n",
    "import glob\n",
    "import os\n",
    "from PIL import Image \n",
    "import numpy as np\n",
    "from sklearn.utils import shuffle\n",
    "\n",
    "import tensorflow as tf\n",
    "from tensorflow.keras.layers import BatchNormalization\n",
    "from tensorflow.python.keras.layers import Dense, InputLayer, Conv2D, MaxPool2D, Flatten\n",
    "from tensorflow.keras.preprocessing.image import ImageDataGenerator\n",
    "from sklearn.model_selection import train_test_split"
   ]
  },
  {
   "cell_type": "markdown",
   "metadata": {},
   "source": [
    "### Model name\n",
    "\n",
    "In order to distinguish between different versions of the neural network, a unique name for the model is defined right at the beginning. This name should be identical at the beginning of each script so that the same data is used consistently.\n"
   ]
  },
  {
   "cell_type": "code",
   "execution_count": 14,
   "metadata": {},
   "outputs": [],
   "source": [
    "ModelNameAndVersion = \"counter_det\""
   ]
  },
  {
   "cell_type": "markdown",
   "metadata": {},
   "source": [
    "## Loading the training images\n",
    "\n",
    "The training images are loaded from a directory. Since the classification is also necessary in addition to the image, this is saved directly in the file name according to the following nomenclature:\n",
    "\n",
    "The image data and the classification is stored in the two arrays x_data (image data) and y_data (classification):"
   ]
  },
  {
   "cell_type": "code",
   "execution_count": 15,
   "metadata": {},
   "outputs": [
    {
     "name": "stdout",
     "output_type": "stream",
     "text": [
      "(490, 32, 20, 3)\n",
      "(490, 11)\n"
     ]
    }
   ],
   "source": [
    "#Setting the variables and initializing the arrays\n",
    "Input_dir = 'bilder_resize'\n",
    "x_data = []\n",
    "y_data = []\n",
    "\n",
    "#Loading the image files in a loop over as jpeg images \n",
    "files = glob.glob(Input_dir + '/*.jpg')\n",
    "for aktfile in files:\n",
    "    img = Image.open(aktfile) #Loads the image data                  \n",
    "    data = np.array(img)\n",
    "    x_data.append(data)\n",
    "    \n",
    "    Dateiname      = os.path.basename(aktfile)             # Dateiname\n",
    "    Classification = Dateiname[0:1]                        # 1. Digit = Target Value\n",
    "    if Classification == \"N\":\n",
    "        category = 10                          \n",
    "    else:\n",
    "        category = int(Classification)\n",
    "    category_vektor = tf.keras.utils.to_categorical(category, 11) # Conversion to vector\n",
    "    y_data.append(category_vektor)\n",
    "\n",
    "x_data = np.array(x_data)\n",
    "y_data = np.array(y_data)\n",
    "\n",
    "print(x_data.shape)\n",
    "print(y_data.shape)"
   ]
  },
  {
   "cell_type": "markdown",
   "metadata": {},
   "source": [
    "## Generate training data & test data\n",
    "\n",
    "### Merge and slice the training\n",
    "\n",
    "First, the loaded images are mixed using the \"shuffle\" function. By using x_data and y_data at the same time, the allocation in the array is preserved\n",
    "\n",
    "The image data is then divided into training data (x/y_train) and test data (x/y_test)."
   ]
  },
  {
   "cell_type": "code",
   "execution_count": 16,
   "metadata": {},
   "outputs": [
    {
     "name": "stdout",
     "output_type": "stream",
     "text": [
      "(392, 32, 20, 3)\n",
      "(98, 32, 20, 3)\n",
      "(392, 11)\n",
      "(98, 11)\n"
     ]
    }
   ],
   "source": [
    "x_data, y_data = shuffle(x_data, y_data)\n",
    "\n",
    "Training_Percentage = 0.2\n",
    "x_train, x_test, y_train, y_test = train_test_split(x_data, y_data, \n",
    "                                                    test_size=Training_Percentage)\n",
    "print(x_train.shape)\n",
    "print(x_test.shape)\n",
    "\n",
    "print(y_train.shape)\n",
    "print(y_test.shape)"
   ]
  },
  {
   "cell_type": "markdown",
   "metadata": {},
   "source": [
    "### Image augmentation\n",
    "\n",
    "Next, the ImageDataGenerator, already known in the first part, is defined, which randomly modifies the input images with the various parameters (shift, brightness, zoom, rotation) and then outputs them. A batch size of 4 is now used here, which has proven itself in various network geometries. The generator is applied to both the training and test data."
   ]
  },
  {
   "cell_type": "code",
   "execution_count": 20,
   "metadata": {},
   "outputs": [],
   "source": [
    "### Without Image Augmentation\n",
    "Shift_Range = 0\n",
    "Brightness_Range = 0\n",
    "Rotation_Angle = 0\n",
    "ZoomRange = 0\n",
    "\n",
    "datagen = ImageDataGenerator(width_shift_range  = [-Shift_Range, Shift_Range], \n",
    "                             height_shift_range = [-Shift_Range, Shift_Range],\n",
    "                             brightness_range   = [1-Brightness_Range, 1+Brightness_Range],\n",
    "                             zoom_range         = [1-ZoomRange, 1+ZoomRange],\n",
    "                             rotation_range     = Rotation_Angle)\n",
    "Batch_Size = 4\n",
    "train_iterator      = datagen.flow(x_train, y_train, batch_size=Batch_Size)\n",
    "validation_iterator = datagen.flow(x_test,  y_test,  batch_size=Batch_Size)"
   ]
  },
  {
   "cell_type": "code",
   "execution_count": 18,
   "metadata": {},
   "outputs": [],
   "source": [
    "### With Image Augmentation\n",
    "Shift_Range = 2\n",
    "Brightness_Range = 0.3\n",
    "Rotation_Angle = 5\n",
    "ZoomRange = 0.2\n",
    "\n",
    "datagen = ImageDataGenerator(width_shift_range  = [-Shift_Range, Shift_Range], \n",
    "                             height_shift_range = [-Shift_Range, Shift_Range],\n",
    "                             brightness_range   = [1-Brightness_Range, 1+Brightness_Range],\n",
    "                             zoom_range         = [1-ZoomRange, 1+ZoomRange],\n",
    "                             rotation_range     = Rotation_Angle)\n",
    "Batch_Size = 4\n",
    "train_iterator      = datagen.flow(x_train, y_train, batch_size=Batch_Size)\n",
    "validation_iterator = datagen.flow(x_test,  y_test,  batch_size=Batch_Size)"
   ]
  },
  {
   "cell_type": "markdown",
   "metadata": {},
   "source": [
    "## Definition and structure of the network\n",
    "The layout consists of a sequence of convolutional and maxpooling layers. At the beginning there is a layer to normalize the input data. In front of the starting layer there is a \"flat\" layer with 512 neurons.\n",
    "\n",
    "### Inputs\n",
    "Images of size 32x20 pixels with 3 color channels --> input_shape = (32,20,3)\n",
    "### Output\n",
    "11 neurons: Digits 0, 1, ..., 9 + Not-A-Number as a special case\n",
    "### Compile\n",
    "Finally, the network is compiled here so that it can be used. The detailed parameters for this can be found in the relevant literature"
   ]
  },
  {
   "cell_type": "code",
   "execution_count": 6,
   "metadata": {},
   "outputs": [
    {
     "name": "stdout",
     "output_type": "stream",
     "text": [
      "Model: \"sequential\"\n",
      "_________________________________________________________________\n",
      " Layer (type)                Output Shape              Param #   \n",
      "=================================================================\n",
      " batch_normalization (BatchN  (None, 32, 20, 3)        12        \n",
      " ormalization)                                                   \n",
      "                                                                 \n",
      " module_wrapper (ModuleWrapp  (None, 32, 20, 16)       448       \n",
      " er)                                                             \n",
      "                                                                 \n",
      " module_wrapper_1 (ModuleWra  (None, 16, 10, 16)       0         \n",
      " pper)                                                           \n",
      "                                                                 \n",
      " module_wrapper_2 (ModuleWra  (None, 16, 10, 32)       4640      \n",
      " pper)                                                           \n",
      "                                                                 \n",
      " module_wrapper_3 (ModuleWra  (None, 8, 5, 32)         0         \n",
      " pper)                                                           \n",
      "                                                                 \n",
      " module_wrapper_4 (ModuleWra  (None, 8, 5, 16)         4624      \n",
      " pper)                                                           \n",
      "                                                                 \n",
      " module_wrapper_5 (ModuleWra  (None, 4, 2, 16)         0         \n",
      " pper)                                                           \n",
      "                                                                 \n",
      " module_wrapper_6 (ModuleWra  (None, 128)              0         \n",
      " pper)                                                           \n",
      "                                                                 \n",
      " module_wrapper_7 (ModuleWra  (None, 128)              16512     \n",
      " pper)                                                           \n",
      "                                                                 \n",
      " module_wrapper_8 (ModuleWra  (None, 11)               1419      \n",
      " pper)                                                           \n",
      "                                                                 \n",
      "=================================================================\n",
      "Total params: 27,655\n",
      "Trainable params: 27,649\n",
      "Non-trainable params: 6\n",
      "_________________________________________________________________\n"
     ]
    }
   ],
   "source": [
    "model = tf.keras.Sequential()\n",
    "\n",
    "model.add(BatchNormalization(input_shape=(32,20,3)))\n",
    "model.add(Conv2D(16, (3, 3), padding='same', activation=\"relu\"))\n",
    "model.add(MaxPool2D(pool_size=(2,2)))\n",
    "model.add(Conv2D(32, (3, 3), padding='same', activation=\"relu\"))\n",
    "model.add(MaxPool2D(pool_size=(2,2)))\n",
    "model.add(Conv2D(16, (3, 3), padding='same', activation=\"relu\"))\n",
    "model.add(MaxPool2D(pool_size=(2,2)))\n",
    "model.add(Flatten())\n",
    "model.add(Dense(128,activation=\"relu\"))\n",
    "model.add(Dense(11, activation = \"softmax\"))\n",
    "\n",
    "model.summary()\n",
    "\n",
    "model.compile(loss= tf.keras.losses.categorical_crossentropy, \n",
    "              optimizer= tf.keras.optimizers.Adadelta(learning_rate=1.0, rho=0.95), \n",
    "              metrics = [\"accuracy\"])"
   ]
  },
  {
   "cell_type": "markdown",
   "metadata": {},
   "source": [
    "## Training the network\n",
    "During training, the number of training cycles (Epoch_Number) and the size of the simultaneously trained images (Batch_Size) must be defined"
   ]
  },
  {
   "cell_type": "code",
   "execution_count": 21,
   "metadata": {},
   "outputs": [
    {
     "name": "stdout",
     "output_type": "stream",
     "text": [
      "Epoch 1/50\n",
      "98/98 [==============================] - 0s 4ms/step - loss: 0.1312 - accuracy: 0.9617 - val_loss: 0.0703 - val_accuracy: 0.9898\n",
      "Epoch 2/50\n",
      "98/98 [==============================] - 1s 5ms/step - loss: 0.0434 - accuracy: 0.9872 - val_loss: 0.0607 - val_accuracy: 0.9796\n",
      "Epoch 3/50\n",
      "98/98 [==============================] - 1s 6ms/step - loss: 0.0185 - accuracy: 0.9949 - val_loss: 0.0332 - val_accuracy: 0.9898\n",
      "Epoch 4/50\n",
      "98/98 [==============================] - 1s 7ms/step - loss: 0.0168 - accuracy: 0.9974 - val_loss: 0.0437 - val_accuracy: 0.9796\n",
      "Epoch 5/50\n",
      "98/98 [==============================] - 1s 7ms/step - loss: 0.0076 - accuracy: 1.0000 - val_loss: 0.0543 - val_accuracy: 0.9694\n",
      "Epoch 6/50\n",
      "98/98 [==============================] - 1s 6ms/step - loss: 0.0108 - accuracy: 0.9949 - val_loss: 0.0379 - val_accuracy: 0.9898\n",
      "Epoch 7/50\n",
      "98/98 [==============================] - 1s 6ms/step - loss: 0.0051 - accuracy: 1.0000 - val_loss: 0.0293 - val_accuracy: 0.9898\n",
      "Epoch 8/50\n",
      "98/98 [==============================] - 1s 7ms/step - loss: 7.9546e-04 - accuracy: 1.0000 - val_loss: 0.0365 - val_accuracy: 0.9898\n",
      "Epoch 9/50\n",
      "98/98 [==============================] - 1s 7ms/step - loss: 0.0175 - accuracy: 0.9974 - val_loss: 0.0674 - val_accuracy: 0.9796\n",
      "Epoch 10/50\n",
      "98/98 [==============================] - 1s 6ms/step - loss: 0.0022 - accuracy: 1.0000 - val_loss: 0.0719 - val_accuracy: 0.9796\n",
      "Epoch 11/50\n",
      "98/98 [==============================] - 1s 5ms/step - loss: 0.0011 - accuracy: 1.0000 - val_loss: 0.0540 - val_accuracy: 0.9898\n",
      "Epoch 12/50\n",
      "98/98 [==============================] - 1s 5ms/step - loss: 9.1536e-04 - accuracy: 1.0000 - val_loss: 0.0264 - val_accuracy: 0.9898\n",
      "Epoch 13/50\n",
      "98/98 [==============================] - 1s 6ms/step - loss: 4.7678e-04 - accuracy: 1.0000 - val_loss: 0.0403 - val_accuracy: 0.9796\n",
      "Epoch 14/50\n",
      "98/98 [==============================] - 1s 5ms/step - loss: 0.0077 - accuracy: 0.9974 - val_loss: 0.0944 - val_accuracy: 0.9898\n",
      "Epoch 15/50\n",
      "98/98 [==============================] - 1s 6ms/step - loss: 5.2500e-04 - accuracy: 1.0000 - val_loss: 0.0796 - val_accuracy: 0.9898\n",
      "Epoch 16/50\n",
      "98/98 [==============================] - 1s 6ms/step - loss: 2.2404e-04 - accuracy: 1.0000 - val_loss: 0.0893 - val_accuracy: 0.9796\n",
      "Epoch 17/50\n",
      "98/98 [==============================] - 1s 6ms/step - loss: 2.2549e-04 - accuracy: 1.0000 - val_loss: 0.0857 - val_accuracy: 0.9694\n",
      "Epoch 18/50\n",
      "98/98 [==============================] - 1s 6ms/step - loss: 0.0012 - accuracy: 1.0000 - val_loss: 0.1128 - val_accuracy: 0.9796\n",
      "Epoch 19/50\n",
      "98/98 [==============================] - 1s 5ms/step - loss: 3.4449e-04 - accuracy: 1.0000 - val_loss: 0.0467 - val_accuracy: 0.9796\n",
      "Epoch 20/50\n",
      "98/98 [==============================] - 1s 5ms/step - loss: 7.0235e-05 - accuracy: 1.0000 - val_loss: 0.0610 - val_accuracy: 0.9796\n",
      "Epoch 21/50\n",
      "98/98 [==============================] - 1s 5ms/step - loss: 6.3240e-05 - accuracy: 1.0000 - val_loss: 0.0814 - val_accuracy: 0.9898\n",
      "Epoch 22/50\n",
      "98/98 [==============================] - 1s 6ms/step - loss: 2.8421e-05 - accuracy: 1.0000 - val_loss: 0.0687 - val_accuracy: 0.9898\n",
      "Epoch 23/50\n",
      "98/98 [==============================] - 1s 6ms/step - loss: 1.7513e-05 - accuracy: 1.0000 - val_loss: 0.0621 - val_accuracy: 0.9898\n",
      "Epoch 24/50\n",
      "98/98 [==============================] - 1s 7ms/step - loss: 2.2375e-04 - accuracy: 1.0000 - val_loss: 0.0930 - val_accuracy: 0.9898\n",
      "Epoch 25/50\n",
      "98/98 [==============================] - 1s 6ms/step - loss: 1.0162e-05 - accuracy: 1.0000 - val_loss: 0.0896 - val_accuracy: 0.9898\n",
      "Epoch 26/50\n",
      "98/98 [==============================] - 1s 5ms/step - loss: 5.0776e-05 - accuracy: 1.0000 - val_loss: 0.0582 - val_accuracy: 0.9796\n",
      "Epoch 27/50\n",
      "98/98 [==============================] - 1s 8ms/step - loss: 5.0231e-05 - accuracy: 1.0000 - val_loss: 0.0667 - val_accuracy: 0.9898\n",
      "Epoch 28/50\n",
      "98/98 [==============================] - 1s 5ms/step - loss: 2.7791e-05 - accuracy: 1.0000 - val_loss: 0.0689 - val_accuracy: 0.9898\n",
      "Epoch 29/50\n",
      "98/98 [==============================] - 1s 7ms/step - loss: 6.5609e-06 - accuracy: 1.0000 - val_loss: 0.0720 - val_accuracy: 0.9898\n",
      "Epoch 30/50\n",
      "98/98 [==============================] - 1s 6ms/step - loss: 5.5783e-06 - accuracy: 1.0000 - val_loss: 0.0743 - val_accuracy: 0.9898\n",
      "Epoch 31/50\n",
      "98/98 [==============================] - 1s 6ms/step - loss: 1.7682e-05 - accuracy: 1.0000 - val_loss: 0.0733 - val_accuracy: 0.9898\n",
      "Epoch 32/50\n",
      "98/98 [==============================] - 1s 6ms/step - loss: 8.5753e-06 - accuracy: 1.0000 - val_loss: 0.0796 - val_accuracy: 0.9898\n",
      "Epoch 33/50\n",
      "98/98 [==============================] - 1s 6ms/step - loss: 6.0851e-06 - accuracy: 1.0000 - val_loss: 0.0766 - val_accuracy: 0.9898\n",
      "Epoch 34/50\n",
      "98/98 [==============================] - 1s 6ms/step - loss: 3.1612e-06 - accuracy: 1.0000 - val_loss: 0.0715 - val_accuracy: 0.9898\n",
      "Epoch 35/50\n",
      "98/98 [==============================] - 1s 6ms/step - loss: 4.7860e-06 - accuracy: 1.0000 - val_loss: 0.0842 - val_accuracy: 0.9898\n",
      "Epoch 36/50\n",
      "98/98 [==============================] - 1s 6ms/step - loss: 2.6885e-06 - accuracy: 1.0000 - val_loss: 0.0798 - val_accuracy: 0.9898\n",
      "Epoch 37/50\n",
      "98/98 [==============================] - 1s 7ms/step - loss: 8.0594e-05 - accuracy: 1.0000 - val_loss: 0.0646 - val_accuracy: 0.9898\n",
      "Epoch 38/50\n",
      "98/98 [==============================] - 1s 6ms/step - loss: 1.3877e-05 - accuracy: 1.0000 - val_loss: 0.1061 - val_accuracy: 0.9694\n",
      "Epoch 39/50\n",
      "98/98 [==============================] - 1s 5ms/step - loss: 5.6934e-06 - accuracy: 1.0000 - val_loss: 0.0727 - val_accuracy: 0.9796\n",
      "Epoch 40/50\n",
      "98/98 [==============================] - 1s 5ms/step - loss: 5.0662e-06 - accuracy: 1.0000 - val_loss: 0.0732 - val_accuracy: 0.9898\n",
      "Epoch 41/50\n",
      "98/98 [==============================] - 0s 5ms/step - loss: 7.7823e-06 - accuracy: 1.0000 - val_loss: 0.0703 - val_accuracy: 0.9898\n",
      "Epoch 42/50\n",
      "98/98 [==============================] - 0s 5ms/step - loss: 4.0159e-06 - accuracy: 1.0000 - val_loss: 0.0623 - val_accuracy: 0.9898\n",
      "Epoch 43/50\n",
      "98/98 [==============================] - 1s 5ms/step - loss: 2.3367e-06 - accuracy: 1.0000 - val_loss: 0.0689 - val_accuracy: 0.9898\n",
      "Epoch 44/50\n",
      "98/98 [==============================] - 1s 6ms/step - loss: 3.1105e-06 - accuracy: 1.0000 - val_loss: 0.0674 - val_accuracy: 0.9898\n",
      "Epoch 45/50\n",
      "98/98 [==============================] - 1s 7ms/step - loss: 3.1574e-06 - accuracy: 1.0000 - val_loss: 0.0743 - val_accuracy: 0.9898\n",
      "Epoch 46/50\n",
      "98/98 [==============================] - 1s 6ms/step - loss: 4.4362e-04 - accuracy: 1.0000 - val_loss: 0.0471 - val_accuracy: 0.9898\n",
      "Epoch 47/50\n",
      "98/98 [==============================] - 1s 6ms/step - loss: 2.0944e-05 - accuracy: 1.0000 - val_loss: 0.0566 - val_accuracy: 0.9898\n",
      "Epoch 48/50\n",
      "98/98 [==============================] - 1s 6ms/step - loss: 2.0533e-05 - accuracy: 1.0000 - val_loss: 0.0621 - val_accuracy: 0.9898\n",
      "Epoch 49/50\n",
      "98/98 [==============================] - 1s 5ms/step - loss: 4.2048e-06 - accuracy: 1.0000 - val_loss: 0.0638 - val_accuracy: 0.9898\n",
      "Epoch 50/50\n",
      "98/98 [==============================] - 0s 5ms/step - loss: 2.7900e-06 - accuracy: 1.0000 - val_loss: 0.0692 - val_accuracy: 0.9898\n"
     ]
    }
   ],
   "source": [
    "Epoch_Anz  = 50\n",
    "history = model.fit(train_iterator, \n",
    "                    validation_data = validation_iterator, \n",
    "                    epochs          = Epoch_Anz)\n"
   ]
  },
  {
   "cell_type": "markdown",
   "metadata": {},
   "source": [
    "### Visualization of training\n",
    "Now you can visualize the course of the training. The error in the training data as well as in the test data is plotted."
   ]
  },
  {
   "cell_type": "code",
   "execution_count": 22,
   "metadata": {},
   "outputs": [
    {
     "data": {
      "image/png": "[encoded data removed]",
      "text/plain": [
       "<Figure size 432x288 with 1 Axes>"
      ]
     },
     "metadata": {
      "needs_background": "light"
     },
     "output_type": "display_data"
    }
   ],
   "source": [
    "plt.semilogy(history.history['loss'])\n",
    "plt.semilogy(history.history['val_loss'])\n",
    "\n",
    "plt.title('model loss')\n",
    "plt.ylabel('loss')\n",
    "plt.xlabel('epoch')\n",
    "plt.legend(['train','eval'], loc='upper right')\n",
    "plt.show()"
   ]
  },
  {
   "cell_type": "markdown",
   "metadata": {},
   "source": [
    "## Saving the Neural Network\n",
    "Finally, the neural network is saved for further use. The complete network is first saved here in the so-called H5 format. A conversion to the tflite format required for programming in the third part takes place in another script."
   ]
  },
  {
   "cell_type": "code",
   "execution_count": 9,
   "metadata": {},
   "outputs": [
    {
     "name": "stderr",
     "output_type": "stream",
     "text": [
      "WARNING:absl:Found untraced functions such as conv2d_layer_call_and_return_conditional_losses, conv2d_layer_call_fn, conv2d_1_layer_call_and_return_conditional_losses, conv2d_1_layer_call_fn, conv2d_2_layer_call_and_return_conditional_losses while saving (showing 5 of 12). These functions will not be directly callable after loading.\n"
     ]
    },
    {
     "name": "stdout",
     "output_type": "stream",
     "text": [
      "INFO:tensorflow:Assets written to: saved_model/counter_det\\assets\n"
     ]
    },
    {
     "name": "stderr",
     "output_type": "stream",
     "text": [
      "INFO:tensorflow:Assets written to: saved_model/counter_det\\assets\n"
     ]
    }
   ],
   "source": [
    "## H5-Format\n",
    "model.save('saved_model/' + ModelNameAndVersion)"
   ]
  }
 ],
 "metadata": {
  "kernelspec": {
   "display_name": "Python 3 (ipykernel)",
   "language": "python",
   "name": "python3"
  },
  "language_info": {
   "codemirror_mode": {
    "name": "ipython",
    "version": 3
   },
   "file_extension": ".py",
   "mimetype": "text/x-python",
   "name": "python",
   "nbconvert_exporter": "python",
   "pygments_lexer": "ipython3",
   "version": "3.9.12"
  }
 },
 "nbformat": 4,
 "nbformat_minor": 4
}
